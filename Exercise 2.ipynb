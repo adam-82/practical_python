{
 "cells": [
  {
   "cell_type": "markdown",
   "metadata": {},
   "source": [
    "#### Coordinates\n",
    "\n",
    "Create a list of positions modelled as a list of dictionaries using the following data:\n",
    "\n",
    "| Name | Latitude| Longitude |\n",
    "|-|-|-|\n",
    "| Area 1 (Position A) | 98.1234 | 121.1234 |\n",
    "| Area 1 (Position B) | 97.1234 | 121.1111 |\n",
    "| Area 2 (Position C) | 98.1111 | 121.1122 |\n",
    "| Area 2 (Position D) | 97.9999 | 122.0111 |\n",
    "| Area 3 (Position E) | 98.1012 | 121.2112 |\n",
    "\n",
    "Each row represents an item on the list and each item should be a dictionary data type with table's column:value as its key:value pair\n",
    "\n",
    "### 1. Naming/Structure convention:\n",
    "    \n",
    "    - List name : \"locations\"\n",
    "    - Dictionary template: {Name:<Value>, Latitude:<Value>, Longitude:<Value>}"
   ]
  },
  {
   "cell_type": "code",
   "execution_count": 3,
   "metadata": {},
   "outputs": [],
   "source": [
    "# insert code here\n",
    "locations = [{\"Name\" : \"Area 1 (Position A)\", \"Latitude\" : \"98.1234\", \"Longitude\" : \"121.1234\"}, \n",
    "            {\"Name\" : \"Area 1 (Position B)\", \"Latitude\" : \"97.1234\", \"Longitude\" : \"121.1111\"},\n",
    "            {\"Name\" : \"Area 2 (Position C)\", \"Latitude\" : \"98.1111\", \"Longitude\" : \"121.1122\"},\n",
    "            {\"Name\" : \"Area 2 (Position D)\", \"Latitude\" : \"97.9999\", \"Longitude\" : \"122.0111\"},\n",
    "            {\"Name\" : \"Area 3 (Position E)\", \"Latitude\" : \"98.1012\", \"Longitude\" : \"121.2112\"}]\n",
    "           "
   ]
  },
  {
   "cell_type": "markdown",
   "metadata": {},
   "source": [
    "### 2. Process locations list\n",
    "\n",
    "\n",
    "Transform your `locations` list by creating another list of tuples that contains the following:\n",
    "- Position letter (that can be extracted from the location `Name`)\n",
    "    * *Example:* Position letter `'A'` from `'Area 1 (Position A)'`\n",
    "- Latitude\n",
    "- Longitude\n",
    "\n",
    "**Use `simplified_locations` as the variable name"
   ]
  },
  {
   "cell_type": "markdown",
   "metadata": {},
   "source": [
    "The expected output should look like:\n",
    "\n",
    "[('A', 98.1234, 121.1234),\n",
    " ('B', 97.1234, 121.1111),\n",
    " ('C', 98.1111, 121.1122),\n",
    " ('D', 97.9999, 122.0111),\n",
    " ('E', 98.1012, 121.2112)]"
   ]
  },
  {
   "cell_type": "code",
   "execution_count": 16,
   "metadata": {},
   "outputs": [
    {
     "name": "stdout",
     "output_type": "stream",
     "text": [
      "[('A', 98.1234, 121.1234), ('B', 97.1234, 121.1111), ('C', 98.1111, 121.1122), ('D', 97.9999, 122.0111), ('E', 98.1012, 121.2112)]\n",
      "121.1234\n"
     ]
    }
   ],
   "source": [
    "simplified_locations = []\n",
    "\n",
    "#insert code here\n",
    "for item in locations:  \n",
    "    direction = item[\"Name\"][-2],float(item[\"Latitude\"]),float(item[\"Longitude\"])\n",
    "    simplified_locations.append(direction)\n",
    "    \n",
    "print(simplified_locations)    \n",
    "print(simplified_locations[0][2])    \n",
    "    "
   ]
  },
  {
   "cell_type": "markdown",
   "metadata": {},
   "source": [
    "## Assertion\n",
    "Run code below to check validity of your answer. No output means that your solution is correct."
   ]
  },
  {
   "cell_type": "code",
   "execution_count": 8,
   "metadata": {},
   "outputs": [],
   "source": [
    "import numpy as np\n",
    "output = [('A', 98.1234, 121.1234),\n",
    " ('B', 97.1234, 121.1111),\n",
    " ('C', 98.1111, 121.1122),\n",
    " ('D', 97.9999, 122.0111),\n",
    " ('E', 98.1012, 121.2112)]\n",
    "\n",
    "assert np.array_equal(output, simplified_locations)"
   ]
  },
  {
   "cell_type": "code",
   "execution_count": null,
   "metadata": {},
   "outputs": [],
   "source": []
  }
 ],
 "metadata": {
  "kernelspec": {
   "display_name": "Python 3",
   "language": "python",
   "name": "python3"
  },
  "language_info": {
   "codemirror_mode": {
    "name": "ipython",
    "version": 3
   },
   "file_extension": ".py",
   "mimetype": "text/x-python",
   "name": "python",
   "nbconvert_exporter": "python",
   "pygments_lexer": "ipython3",
   "version": "3.8.2"
  }
 },
 "nbformat": 4,
 "nbformat_minor": 2
}
