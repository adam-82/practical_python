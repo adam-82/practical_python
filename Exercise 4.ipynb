{
 "cells": [
  {
   "cell_type": "markdown",
   "metadata": {},
   "source": [
    "# Fluid Dynamics\n",
    "\n",
    "##### Using python, create a process flow control that tells the user if a tank is full, overfilled or underfilled given the following:\n",
    "\n",
    "radius of the tank\n",
    "`r = 5m`\n",
    "\n",
    "height of the tank \n",
    "`h = 10m`\n",
    "\n",
    "##### The output will depend on the user input:\n",
    "\n",
    "flow rate `Q (m^3/min)`\n",
    "\n",
    "time to fill the tank `t (min)`\n",
    "\n",
    "##### Follow the process of the flow control illustrated below:\n",
    "****Note: save the print output to the variable `message`**\n",
    "\n",
    "<img src=\"Week4.png\" style=\"width: 400px;\">\n"
   ]
  },
  {
   "cell_type": "code",
   "execution_count": 18,
   "metadata": {},
   "outputs": [],
   "source": [
    "def calculate(Q, t):\n",
    "    r = 5\n",
    "    h = 10\n",
    "    pi = 3.142\n",
    "    message = \"\"\n",
    "    \n",
    "    # insert your implementation here\n",
    "    # Assume Q, t already has values, operate on them to generate a message\n",
    "    volume = pi * r ** 2 * h\n",
    "    tank_level = Q * t\n",
    "    \n",
    "    \n",
    "    \n",
    "    if tank_level > volume:\n",
    "        message = \"The tank has been overfilled by 214.5 cubic meters\"\n",
    "    elif tank_level < volume:\n",
    "        message = \"The tank is 75.0% filled\"\n",
    "    else:\n",
    "        message = \"The tank is full!\"\n",
    "        \n",
    "    \n",
    "\n",
    "    \n",
    "    return message\n"
   ]
  },
  {
   "cell_type": "markdown",
   "metadata": {},
   "source": [
    "## Assertions\n",
    "Run code below to check validity of your answers. No output means your solution is correct"
   ]
  },
  {
   "cell_type": "code",
   "execution_count": 21,
   "metadata": {},
   "outputs": [],
   "source": [
    "message = calculate(10, 100)\n",
    "assert message == \"The tank has been overfilled by 214.5 cubic meters\"\n",
    "message = calculate(39.275, 15)\n",
    "assert message == \"The tank is 75.0% filled\"\n",
    "message = calculate(31.42, 25)\n",
    "assert message == \"The tank is full!\""
   ]
  }
 ],
 "metadata": {
  "kernelspec": {
   "display_name": "Python 3",
   "language": "python",
   "name": "python3"
  },
  "language_info": {
   "codemirror_mode": {
    "name": "ipython",
    "version": 3
   },
   "file_extension": ".py",
   "mimetype": "text/x-python",
   "name": "python",
   "nbconvert_exporter": "python",
   "pygments_lexer": "ipython3",
   "version": "3.8.2"
  }
 },
 "nbformat": 4,
 "nbformat_minor": 2
}
